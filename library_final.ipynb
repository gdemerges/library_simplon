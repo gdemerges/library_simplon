{
 "cells": [
  {
   "cell_type": "markdown",
   "metadata": {},
   "source": [
    "# Importation des données"
   ]
  },
  {
   "cell_type": "code",
   "execution_count": 13,
   "metadata": {},
   "outputs": [],
   "source": [
    "import pandas as pd\n",
    "import matplotlib.pyplot as plt\n",
    "import seaborn as sns\n",
    "from scipy.stats import chi2_contingency\n",
    "\n",
    "customers = pd.read_csv('data/customers.csv')\n",
    "products = pd.read_csv('data/products.csv')\n",
    "transactions = pd.read_csv('data/transactions.csv')"
   ]
  },
  {
   "cell_type": "markdown",
   "metadata": {},
   "source": [
    "# Obtenir les infos en fonction de conditions"
   ]
  },
  {
   "cell_type": "code",
   "execution_count": null,
   "metadata": {},
   "outputs": [],
   "source": [
    "products.loc[(products[\"id_prod\"] == \"0_1507\"), [\"id_prod\", \"price\", \"categ\"]]"
   ]
  },
  {
   "cell_type": "markdown",
   "metadata": {},
   "source": [
    "# Vérification si il y a des transactions nulles"
   ]
  },
  {
   "cell_type": "code",
   "execution_count": null,
   "metadata": {},
   "outputs": [],
   "source": [
    "missing_values = transactions.isnull().sum()\n",
    "missing_values"
   ]
  },
  {
   "cell_type": "markdown",
   "metadata": {},
   "source": [
    "# Vérification des doublons"
   ]
  },
  {
   "cell_type": "code",
   "execution_count": null,
   "metadata": {},
   "outputs": [],
   "source": [
    "duplicate_transac = transactions[transactions.duplicated()]\n",
    "duplicate_transac"
   ]
  },
  {
   "cell_type": "code",
   "execution_count": null,
   "metadata": {},
   "outputs": [],
   "source": [
    "duplicate_prod = products[products.duplicated()]\n",
    "duplicate_prod"
   ]
  },
  {
   "cell_type": "code",
   "execution_count": null,
   "metadata": {},
   "outputs": [],
   "source": [
    "duplicate_custom = customers[customers.duplicated()]\n",
    "duplicate_custom"
   ]
  },
  {
   "cell_type": "markdown",
   "metadata": {},
   "source": [
    "# Ratio Hommes / Femmes"
   ]
  },
  {
   "cell_type": "code",
   "execution_count": null,
   "metadata": {},
   "outputs": [],
   "source": [
    "gender_counts = customers['sex'].value_counts()\n",
    "plt.figure(figsize=(7, 6))\n",
    "ax = gender_counts.plot(kind='bar', rot=0, color=[\"tab:pink\", \"tab:blue\"])\n",
    "ax.set_title(\"Ratio Femmes / Hommes\", y=1)\n",
    "ax.set_xlabel('Genre')\n",
    "ax.set_ylabel('Nombre')\n",
    "ax.set_xticklabels(('Femme', 'Homme'))\n",
    "for rect in ax.patches:\n",
    "    y_value = rect.get_height()\n",
    "    x_value = rect.get_x() + rect.get_width() / 2\n",
    "    space = 1\n",
    "    label = format(y_value)\n",
    "    ax.annotate(label, (x_value, y_value), xytext=(0, space), textcoords=\"offset points\", ha='center', va='bottom')\n",
    "plt.show()"
   ]
  },
  {
   "cell_type": "markdown",
   "metadata": {},
   "source": [
    "# Nombre de clients par année de naissance en fonction du genre"
   ]
  },
  {
   "cell_type": "code",
   "execution_count": null,
   "metadata": {},
   "outputs": [],
   "source": [
    "customers_by_sex_birth = customers.groupby(['sex', 'birth']).size().reset_index(name='count')\n",
    "pivot_customers = customers_by_sex_birth.pivot(index='birth', columns='sex', values='count').fillna(0)\n",
    "pivot_customers['Total'] = pivot_customers.sum(axis=1)\n",
    "pivot_customers_sorted = pivot_customers.sort_values(by='Total')\n",
    "sns.set(style=\"whitegrid\")\n",
    "plt.figure(figsize=(15, 6))\n",
    "pivot_customers[['f', 'm']].plot(kind='bar', stacked=True, color=['#ff9999', '#9999ff'], figsize=(15, 6))\n",
    "plt.title('Nombre de Clients par Année de Naissance avec Distinction des Sexes')\n",
    "plt.xlabel('Année de Naissance')\n",
    "plt.ylabel('Nombre de Clients')\n",
    "plt.xticks(rotation=45)\n",
    "plt.legend(title='Sexe', labels=['Féminin', 'Masculin'])\n",
    "plt.tight_layout()\n",
    "plt.show()"
   ]
  },
  {
   "cell_type": "markdown",
   "metadata": {},
   "source": [
    "# Tableau croisé entre sex et categorie"
   ]
  },
  {
   "cell_type": "code",
   "execution_count": null,
   "metadata": {},
   "outputs": [],
   "source": [
    "tableau_croise = pd.crosstab(customers['sex'], products['categ'])\n",
    "tableau_croise"
   ]
  },
  {
   "cell_type": "markdown",
   "metadata": {},
   "source": [
    "# Les prix par catégorie"
   ]
  },
  {
   "cell_type": "code",
   "execution_count": null,
   "metadata": {},
   "outputs": [],
   "source": [
    "price_by_category = products.groupby('categ')['price'].describe()\n",
    "\n",
    "price_by_category"
   ]
  },
  {
   "cell_type": "markdown",
   "metadata": {},
   "source": [
    "# Retrait du produit négatif"
   ]
  },
  {
   "cell_type": "code",
   "execution_count": null,
   "metadata": {},
   "outputs": [],
   "source": [
    "products = products[products['price'] != -1]\n",
    "\n",
    "produits_negatif_restant = products[products['price'] < 0].shape[0]\n",
    "\n",
    "produits_negatif_restant"
   ]
  },
  {
   "cell_type": "markdown",
   "metadata": {},
   "source": [
    "# Visualisation des prix par catégorie"
   ]
  },
  {
   "cell_type": "code",
   "execution_count": null,
   "metadata": {},
   "outputs": [],
   "source": [
    "plt.figure(figsize=(10, 6))\n",
    "sns.boxplot(x='categ', y='price', data=products)\n",
    "\n",
    "plt.title('Distribution des prix par catégorie de produits')\n",
    "plt.xlabel('Catégorie')\n",
    "plt.ylabel('Prix')\n",
    "plt.xticks([0, 1, 2], ['Catégorie 0', 'Catégorie 1', 'Catégorie 2'])\n",
    "\n",
    "plt.show()"
   ]
  },
  {
   "cell_type": "markdown",
   "metadata": {},
   "source": [
    "# Nettoyage des transactions avec les dates test"
   ]
  },
  {
   "cell_type": "code",
   "execution_count": null,
   "metadata": {},
   "outputs": [],
   "source": [
    "transactions_cleaned = transactions[~transactions['date'].str.startswith(\"test\")]\n",
    "transactions_with_test = transactions[transactions['date'].str.startswith(\"test\")]\n",
    "\n",
    "original_count = transactions.shape[0]\n",
    "cleaned_count = transactions_cleaned.shape[0]\n",
    "test_transactions_removed = original_count - cleaned_count\n",
    "\n",
    "(original_count, cleaned_count, test_transactions_removed, transactions_cleaned, transactions_with_test)"
   ]
  },
  {
   "cell_type": "markdown",
   "metadata": {},
   "source": [
    "# Produits les plus vendus"
   ]
  },
  {
   "cell_type": "code",
   "execution_count": null,
   "metadata": {},
   "outputs": [],
   "source": [
    "transactions_by_product = transactions_cleaned.groupby('id_prod').size().sort_values(ascending=False)\n",
    "\n",
    "transactions_by_product.head()"
   ]
  },
  {
   "cell_type": "markdown",
   "metadata": {},
   "source": [
    "# Prix des articles"
   ]
  },
  {
   "cell_type": "code",
   "execution_count": null,
   "metadata": {},
   "outputs": [],
   "source": [
    "freq_achat = products.groupby('price').agg({'id_prod': ', '.join})\n",
    "freq_achat"
   ]
  },
  {
   "cell_type": "markdown",
   "metadata": {},
   "source": [
    "# CA par produit"
   ]
  },
  {
   "cell_type": "code",
   "execution_count": null,
   "metadata": {},
   "outputs": [],
   "source": [
    "transactions_with_price = transactions_cleaned.merge(products[['id_prod', 'price']], on='id_prod', how='left')\n",
    "\n",
    "total_revenue_by_product = transactions_with_price.groupby('id_prod').agg(\n",
    "    transactions_count=('id_prod', 'size'),\n",
    "    total_revenue=('price', 'sum')\n",
    ").sort_values(by='total_revenue', ascending=False)\n",
    "\n",
    "total_revenue_by_product.head()"
   ]
  },
  {
   "cell_type": "markdown",
   "metadata": {},
   "source": [
    "# Graphique du top 10 des produits avec le plus gros CA"
   ]
  },
  {
   "cell_type": "code",
   "execution_count": null,
   "metadata": {},
   "outputs": [],
   "source": [
    "top_10_CA_products = total_revenue_by_product.head(10).reset_index()\n",
    "\n",
    "plt.figure(figsize=(14, 8))\n",
    "sns.barplot(x='total_revenue', y='id_prod', data=top_10_CA_products, palette='coolwarm_r') #_r permet d'inverser les couleurs\n",
    "\n",
    "plt.title('Top 10 des produits générant le plus de revenus')\n",
    "plt.xlabel('Revenu Total')\n",
    "plt.ylabel('Identifiant du Produit')\n",
    "plt.show()"
   ]
  },
  {
   "cell_type": "markdown",
   "metadata": {},
   "source": [
    "# Produits jamais vendus"
   ]
  },
  {
   "cell_type": "code",
   "execution_count": 45,
   "metadata": {},
   "outputs": [],
   "source": [
    "sold_products = transactions_cleaned['id_prod'].unique()\n",
    "unsold_products = products[~products['id_prod'].isin(sold_products)]\n",
    "\n",
    "unsold_products\n",
    "\n",
    "unsold_products_df = products[~products['id_prod'].isin(sold_products)]\n",
    "chemin_fichier_csv_unsold = 'data/unsold_products.csv'\n",
    "unsold_products_df.to_csv(chemin_fichier_csv_unsold, index=False)"
   ]
  },
  {
   "cell_type": "code",
   "execution_count": null,
   "metadata": {},
   "outputs": [],
   "source": [
    "jointure_outer = pd.merge(transactions, products, on='id_prod', how='outer')\n",
    "non_vendus = jointure_outer[jointure_outer['session_id'].isna()]\n",
    "non_vendus_final =non_vendus[\"id_prod\"].count()\n",
    "print(\"Nombre de produits non vendus :\", non_vendus_final)"
   ]
  },
  {
   "cell_type": "markdown",
   "metadata": {},
   "source": [
    "# Nombre de transactions par date"
   ]
  },
  {
   "cell_type": "code",
   "execution_count": null,
   "metadata": {},
   "outputs": [],
   "source": [
    "transactions['date_converted'] = pd.to_datetime(transactions['date'], errors='coerce')\n",
    "\n",
    "data_filtered = transactions.dropna(subset=['date_converted'])\n",
    "\n",
    "data_filtered['just_date'] = data_filtered['date_converted'].dt.date\n",
    "\n",
    "transactions_by_date_filtered = data_filtered.groupby('just_date').size()\n",
    "\n",
    "plt.figure(figsize=(12, 6))\n",
    "transactions_by_date_filtered.plot(kind='line', color='blue', linewidth=2)\n",
    "plt.title('Nombre de transactions par date')\n",
    "plt.xlabel('Date')\n",
    "plt.ylabel('Nombre de transactions')\n",
    "plt.tight_layout()\n",
    "plt.show()"
   ]
  },
  {
   "cell_type": "markdown",
   "metadata": {},
   "source": [
    "# Détail du nombre de transactions sur la période suspecte"
   ]
  },
  {
   "cell_type": "code",
   "execution_count": null,
   "metadata": {},
   "outputs": [],
   "source": [
    "transactions_cleaned['date'] = pd.to_datetime(transactions_cleaned['date'], errors='coerce')\n",
    "\n",
    "transactions_month = transactions_cleaned[transactions_cleaned['date'].dt.month.isin([8, 9, 10, 11, 12])]\n",
    "\n",
    "transactions_month_with_categ = transactions_month.merge(products[['id_prod', 'price', 'categ']], on='id_prod', how='left')\n",
    "\n",
    "transactions_details_by_categ = transactions_month_with_categ.groupby([transactions_month_with_categ['date'].dt.month, 'categ']).agg(\n",
    "    number_of_transactions=('id_prod', 'count'),\n",
    "    total_revenue=('price', 'sum')\n",
    ").rename(index={8: 'Aout', 9: 'September', 10: 'October', 11: 'November', 12: 'December'}, level=0)\n",
    "\n",
    "transactions_details_by_categ"
   ]
  },
  {
   "cell_type": "markdown",
   "metadata": {},
   "source": [
    "# Nombre de transactions par jour en Octobre"
   ]
  },
  {
   "cell_type": "code",
   "execution_count": null,
   "metadata": {},
   "outputs": [],
   "source": [
    "transactions_with_categ = transactions_cleaned.merge(products[['id_prod', 'price', 'categ']], on='id_prod', how='left')\n",
    "\n",
    "transactions_oct_categ1 = transactions_with_categ[\n",
    "    (transactions_with_categ['date'].dt.month == 10) &\n",
    "    (transactions_with_categ['categ'] == 1)\n",
    "]\n",
    "\n",
    "transactions_details_by_day_categ1 = transactions_oct_categ1.groupby([\n",
    "    transactions_oct_categ1['date'].dt.month,\n",
    "    transactions_oct_categ1['date'].dt.day\n",
    "]).agg(\n",
    "    number_of_transactions=('id_prod', 'count'),\n",
    "    total_revenue=('price', 'sum')\n",
    ").rename(index={10: 'October'}, level=1)\n",
    "\n",
    "transactions_details_by_day_categ1"
   ]
  },
  {
   "cell_type": "markdown",
   "metadata": {},
   "source": [
    "# Top 10 des clients"
   ]
  },
  {
   "cell_type": "code",
   "execution_count": null,
   "metadata": {},
   "outputs": [],
   "source": [
    "transactions_by_client = data_filtered['client_id'].value_counts().head(10)\n",
    "\n",
    "plt.figure(figsize=(10, 6))\n",
    "transactions_by_client.plot(kind='bar', color='green')\n",
    "plt.title('Top 10 des clients par nombre de transactions')\n",
    "plt.xlabel('Identifiant du client')\n",
    "plt.ylabel('Nombre de transactions')\n",
    "plt.show()\n",
    "\n",
    "transactions_by_client"
   ]
  },
  {
   "cell_type": "markdown",
   "metadata": {},
   "source": [
    "# Top 10 des clients ayant le plus dépensé"
   ]
  },
  {
   "cell_type": "code",
   "execution_count": null,
   "metadata": {},
   "outputs": [],
   "source": [
    "transactions_et_prix_df = pd.merge(transactions, products, on='id_prod', how='left')\n",
    "\n",
    "montant_total_par_client = transactions_et_prix_df.groupby('client_id')['price'].sum().reset_index()\n",
    "\n",
    "montant_total_par_client = montant_total_par_client.sort_values(by='price', ascending=False)\n",
    "\n",
    "top_10_clients_par_depenses = montant_total_par_client.head(10)\n",
    "top_10_clients_par_depenses\n"
   ]
  },
  {
   "cell_type": "markdown",
   "metadata": {},
   "source": [
    "# Nettoyage des 4 gros clients"
   ]
  },
  {
   "cell_type": "code",
   "execution_count": null,
   "metadata": {},
   "outputs": [],
   "source": [
    "clients_a_exclure = ['c_1609', 'c_4958', 'c_6714', 'c_3454']\n",
    "donnees_sans_gros_clients = transactions_et_prix_df[~transactions_et_prix_df['client_id'].isin(clients_a_exclure)]\n",
    "\n",
    "transactions_par_client_sans_gros = donnees_sans_gros_clients['client_id'].value_counts().reset_index()\n",
    "transactions_par_client_sans_gros.columns = ['client_id', 'nombre_transactions']\n",
    "\n",
    "montant_total_par_client_sans_gros = donnees_sans_gros_clients.groupby('client_id')['price'].sum().reset_index().sort_values(by='price', ascending=False)\n",
    "\n",
    "top_10_clients_par_transactions_sans_gros = transactions_par_client_sans_gros.head(10)\n",
    "top_10_clients_par_depenses_sans_gros = montant_total_par_client_sans_gros.head(10)\n",
    "\n",
    "top_10_clients_par_transactions_sans_gros, top_10_clients_par_depenses_sans_gros"
   ]
  },
  {
   "cell_type": "markdown",
   "metadata": {},
   "source": [
    "# Top 10 des clients suite au nettoyage"
   ]
  },
  {
   "cell_type": "code",
   "execution_count": null,
   "metadata": {},
   "outputs": [],
   "source": [
    "fig, axes = plt.subplots(nrows=1, ncols=2, figsize=(18, 6))\n",
    "\n",
    "axes[0].bar(top_10_clients_par_transactions_sans_gros['client_id'], top_10_clients_par_transactions_sans_gros['nombre_transactions'], color='skyblue')\n",
    "axes[0].set_title('Top 10 des clients par nombre de transactions')\n",
    "axes[0].set_xlabel('Client ID')\n",
    "axes[0].set_ylabel('Nombre de transactions')\n",
    "axes[0].tick_params(axis='x')\n",
    "\n",
    "axes[1].bar(top_10_clients_par_depenses_sans_gros['client_id'], top_10_clients_par_depenses_sans_gros['price'], color='lightgreen')\n",
    "axes[1].set_title('Top 10 des clients par montant total dépensé')\n",
    "axes[1].set_xlabel('Client ID')\n",
    "axes[1].set_ylabel('Montant total dépensé (€)')\n",
    "axes[1].tick_params(axis='x')\n",
    "\n",
    "plt.tight_layout()\n",
    "plt.show()"
   ]
  },
  {
   "cell_type": "markdown",
   "metadata": {},
   "source": [
    "# Clients sans transactions"
   ]
  },
  {
   "cell_type": "code",
   "execution_count": null,
   "metadata": {},
   "outputs": [],
   "source": [
    "nombre_de_clients_sans_achat = 0\n",
    "clients_sans_achat = set(customers['client_id']) - set(transactions['client_id'])\n",
    "for client in clients_sans_achat:\n",
    "    nombre_de_clients_sans_achat += 1\n",
    "print(\"Nombre de clients n'ayant pas effectué d'achat :\", nombre_de_clients_sans_achat)\n",
    "\n",
    "clients_sans_achat_df = pd.DataFrame(list(clients_sans_achat), columns=['client_id'])\n",
    "chemin_csv = 'data/clients_sans_achat.csv'\n",
    "clients_sans_achat_df.to_csv(chemin_csv, index=False)"
   ]
  },
  {
   "cell_type": "markdown",
   "metadata": {},
   "source": [
    "# En prenant la variable nettoyée"
   ]
  },
  {
   "cell_type": "code",
   "execution_count": null,
   "metadata": {},
   "outputs": [],
   "source": [
    "nombre_de_clients_sans_test = 0\n",
    "clients_sans_test = set(transactions['date'].str.startswith('test'))\n",
    "for client in clients_sans_test:\n",
    "    nombre_de_clients_sans_test += 1\n",
    "print(\"Nombre de clients n'ayant pas effectué d'achat :\", nombre_de_clients_sans_test)"
   ]
  },
  {
   "cell_type": "code",
   "execution_count": null,
   "metadata": {},
   "outputs": [],
   "source": [
    "nombre_de_clients_sans_achat_clean = 0\n",
    "clients_sans_achat_clean = set(customers['client_id']) - set(transactions_cleaned['client_id'])\n",
    "\n",
    "print(\"Noms des clients n'ayant pas effectué d'achat :\")\n",
    "for client_id in clients_sans_achat_clean:\n",
    "    nombre_de_clients_sans_achat_clean += 1\n",
    "    client_name = customers.loc[customers['client_id'] == client_id, 'client_id'].iloc[0]\n",
    "    print(f\"- {client_name}\")\n",
    "\n",
    "print(\"Nombre de clients n'ayant pas effectué d'achat :\", nombre_de_clients_sans_achat_clean)"
   ]
  },
  {
   "cell_type": "markdown",
   "metadata": {},
   "source": [
    "# Médiane des livres de toutes les catégories"
   ]
  },
  {
   "cell_type": "code",
   "execution_count": null,
   "metadata": {},
   "outputs": [],
   "source": [
    "median_prix_tous_livres = products['price'].median()\n",
    "print(\"Médiane des prix de tous les livres:\", median_prix_tous_livres)"
   ]
  },
  {
   "cell_type": "markdown",
   "metadata": {},
   "source": [
    "# Changement du produit sans prix"
   ]
  },
  {
   "cell_type": "code",
   "execution_count": null,
   "metadata": {},
   "outputs": [],
   "source": [
    "nouveau_produit = pd.DataFrame([{'id_prod': '0_2245', 'price': median_prix_tous_livres, 'categ': pd.NA}])\n",
    "products_df_modifie = pd.concat([products, nouveau_produit], ignore_index=True)\n",
    "produit_0_2245_ajoute = products_df_modifie[products_df_modifie['id_prod'] == '0_2245']\n",
    "produit_0_2245_ajoute\n",
    "products_df_modifie.loc[products_df_modifie['id_prod'] == '0_2245', 'categ'] = 0\n",
    "produit_0_2245_mis_a_jour = products_df_modifie[products_df_modifie['id_prod'] == '0_2245']\n",
    "produit_0_2245_mis_a_jour"
   ]
  },
  {
   "cell_type": "markdown",
   "metadata": {},
   "source": [
    "# CA par catégorie"
   ]
  },
  {
   "cell_type": "code",
   "execution_count": null,
   "metadata": {},
   "outputs": [],
   "source": [
    "ca_par_categorie = transactions_et_prix_df.groupby('categ')['price'].sum()\n",
    "\n",
    "ca_par_categorie"
   ]
  },
  {
   "cell_type": "code",
   "execution_count": null,
   "metadata": {},
   "outputs": [],
   "source": [
    "fig, ax = plt.subplots()\n",
    "ca_par_categorie.plot(kind='bar', ax=ax)\n",
    "ax.set_title('Chiffre d\\'affaires par catégorie de produit')\n",
    "ax.set_xlabel('Catégorie de produit')\n",
    "ax.set_ylabel('Chiffre d\\'affaires (€)')\n",
    "plt.show()"
   ]
  },
  {
   "cell_type": "markdown",
   "metadata": {},
   "source": [
    "# Transactions par genre et catégorie"
   ]
  },
  {
   "cell_type": "code",
   "execution_count": null,
   "metadata": {},
   "outputs": [],
   "source": [
    "transactions_clients_df = pd.merge(transactions_et_prix_df, customers[['client_id', 'sex']], on='client_id', how='left')\n",
    "\n",
    "achats_par_categorie_et_genre = transactions_clients_df.groupby(['categ', 'sex']).size().unstack(fill_value=0)\n",
    "\n",
    "achats_par_categorie_et_genre"
   ]
  },
  {
   "cell_type": "markdown",
   "metadata": {},
   "source": [
    "# 1 ligne par client"
   ]
  },
  {
   "cell_type": "code",
   "execution_count": null,
   "metadata": {},
   "outputs": [],
   "source": [
    "current_year = pd.Timestamp('now').year\n",
    "customers['age'] = current_year - customers['birth']\n",
    "\n",
    "merged_data = transactions_cleaned.merge(customers, on='client_id')\n",
    "merged_data = merged_data.merge(products, on='id_prod')\n",
    "\n",
    "clients_agg = merged_data.groupby(['client_id', 'sex', 'age']).agg(\n",
    "    frequency=('session_id', pd.Series.nunique),\n",
    "    total_revenue=('price', 'sum')\n",
    ").reset_index()\n",
    "\n",
    "clients_agg['average_basket'] = clients_agg['total_revenue'] / clients_agg['frequency']\n",
    "\n",
    "categ_revenue = merged_data.pivot_table(\n",
    "    index='client_id',\n",
    "    columns='categ',\n",
    "    values='price',\n",
    "    aggfunc='sum',\n",
    "    fill_value=0\n",
    ")\n",
    "\n",
    "final_table = clients_agg.join(categ_revenue, on='client_id')\n",
    "\n",
    "final_table\n",
    "\n",
    "chemin_fichier_csv_table = 'data/one_by_client.csv'\n",
    "final_table.to_csv(chemin_fichier_csv_table, index=False)\n",
    "\n",
    "chemin_fichier_csv_table"
   ]
  },
  {
   "cell_type": "markdown",
   "metadata": {},
   "source": [
    "# Corrélation"
   ]
  },
  {
   "cell_type": "code",
   "execution_count": null,
   "metadata": {},
   "outputs": [],
   "source": [
    "correlation_final = final_table[['age', 'frequency', 'total_revenue', 'average_basket', 0, 1, 2]].corr()\n",
    "correlation_final"
   ]
  },
  {
   "cell_type": "markdown",
   "metadata": {},
   "source": [
    "# HeatMap"
   ]
  },
  {
   "cell_type": "code",
   "execution_count": null,
   "metadata": {},
   "outputs": [],
   "source": [
    "plt.figure(figsize=(10, 8))\n",
    "sns.heatmap(correlation_final, annot=True, fmt=\".2f\", cmap='coolwarm')\n",
    "plt.title('Correlation')\n",
    "plt.show()"
   ]
  }
 ],
 "metadata": {
  "kernelspec": {
   "display_name": "Python 3",
   "language": "python",
   "name": "python3"
  },
  "language_info": {
   "codemirror_mode": {
    "name": "ipython",
    "version": 3
   },
   "file_extension": ".py",
   "mimetype": "text/x-python",
   "name": "python",
   "nbconvert_exporter": "python",
   "pygments_lexer": "ipython3",
   "version": "3.10.6"
  }
 },
 "nbformat": 4,
 "nbformat_minor": 2
}
