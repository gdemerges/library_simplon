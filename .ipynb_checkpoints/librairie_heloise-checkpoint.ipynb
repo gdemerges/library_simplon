{
 "cells": [
  {
   "cell_type": "code",
   "execution_count": null,
   "id": "e046e924",
   "metadata": {},
   "outputs": [],
   "source": [
    "import pandas as pd\n",
    "import numpy as np\n",
    "import seaborn as sns\n",
    "import matplotlib.pyplot as plt"
   ]
  },
  {
   "cell_type": "code",
   "execution_count": null,
   "id": "b780f301",
   "metadata": {},
   "outputs": [],
   "source": [
    "customers = pd.read_csv('customers.csv')\n",
    "products = pd.read_csv('products.csv')\n",
    "transactions = pd.read_csv('transactions.csv')"
   ]
  },
  {
   "cell_type": "markdown",
   "id": "30b9c854",
   "metadata": {},
   "source": [
    "# premier graphique"
   ]
  },
  {
   "cell_type": "code",
   "execution_count": null,
   "id": "2da85e8c",
   "metadata": {},
   "outputs": [],
   "source": [
    "plt.figure(figsize=(7, 6))\n",
    "ax = gender.plot(kind='bar', rot=0, color=[\"tab:pink\", \"tab:blue\"])\n",
    "ax.set_title(\"Ratio Hommes / Femmes\", y = 1)\n",
    "ax.set_xlabel('Gender')\n",
    "ax.set_ylabel('Nombre')\n",
    "ax.set_xticklabels(('Female', 'Male'))\n",
    "\n",
    "for rect in ax.patches:\n",
    "    y_value = rect.get_height()\n",
    "    x_value = rect.get_x() + rect.get_width() / 2\n",
    "    space = 1\n",
    "    label = format(y_value)\n",
    "    ax.annotate(label, (x_value, y_value), xytext=(0, space), textcoords=\"offset points\", ha='center', va='bottom')    \n",
    "plt.show()\n"
   ]
  },
  {
   "cell_type": "code",
   "execution_count": null,
   "id": "e7dce475",
   "metadata": {},
   "outputs": [],
   "source": [
    "customers_by_sex_birth = customers.groupby(['sex', 'birth']).size().reset_index(name='count')\n",
    "pivot_customers = customers_by_sex_birth.pivot(index='birth', columns='sex', values='count').fillna(0)\n",
    "pivot_customers['Total'] = pivot_customers.sum(axis=1)\n",
    "pivot_customers_sorted = pivot_customers.sort_values(by='Total')\n",
    "sns.set(style=\"whitegrid\")\n",
    "plt.figure(figsize=(15, 6))\n",
    "pivot_customers[['f', 'm']].plot(kind='bar', stacked=True, color=['#ff9999', '#9999ff'], figsize=(15, 6))\n",
    "plt.title('Nombre de Clients par Année de Naissance avec Distinction des Sexes')\n",
    "plt.xlabel('Année de Naissance')\n",
    "plt.ylabel('Nombre de Clients')\n",
    "plt.xticks(rotation=45)\n",
    "plt.legend(title='Sexe', labels=['Féminin', 'Masculin'])\n",
    "plt.tight_layout()\n",
    "plt.show()"
   ]
  },
  {
   "cell_type": "code",
   "execution_count": null,
   "id": "7c716a57",
   "metadata": {},
   "outputs": [],
   "source": [
    "current_year = pd.Timestamp('now').year\n",
    "customers['age'] = current_year - customers['birth']\n",
    "merged_data = transactions_clean.merge(customers, on='client_id')\n",
    "merged_data = merged_data.merge(products, on='id_prod')\n",
    "clients_agg = merged_data.groupby(['client_id', 'sex', 'age']).agg(\n",
    "    frequency=('session_id', pd.Series.nunique),  \n",
    "    total_revenue=('price', 'sum') \n",
    ").reset_index()\n",
    "clients_agg['average_basket'] = clients_agg['total_revenue'] / clients_agg['frequency']\n",
    "categ_revenue = merged_data.pivot_table(\n",
    "    index='client_id', \n",
    "    columns='categ', \n",
    "    values='price', \n",
    "    aggfunc='sum', \n",
    "    fill_value=0\n",
    ")\n",
    "final_table = clients_agg.join(categ_revenue, on='client_id')\n",
    "final_table"
   ]
  },
  {
   "cell_type": "markdown",
   "id": "82bd5b99",
   "metadata": {},
   "source": [
    "# Product nettoyé"
   ]
  },
  {
   "cell_type": "code",
   "execution_count": null,
   "id": "7b0136a1",
   "metadata": {},
   "outputs": [],
   "source": [
    "product_clean = products[products[\"price\"] >= 0]\n",
    "print(product_clean)"
   ]
  },
  {
   "cell_type": "markdown",
   "id": "c22ea100",
   "metadata": {},
   "source": [
    "# Transactions nettoyé"
   ]
  },
  {
   "cell_type": "code",
   "execution_count": null,
   "id": "fba0d943",
   "metadata": {},
   "outputs": [],
   "source": [
    "transactions_clean = transactions[~transactions[\"date\"].str.startswith('test')]\n",
    "print(transactions_clean)"
   ]
  },
  {
   "cell_type": "markdown",
   "id": "466e7bc9",
   "metadata": {},
   "source": [
    "# Graphique"
   ]
  },
  {
   "cell_type": "code",
   "execution_count": null,
   "id": "6c0a90a4",
   "metadata": {},
   "outputs": [],
   "source": [
    "genre_deux= customers[\"sex\"]\n",
    "custom_palette = {'m': 'blue', 'f': 'pink'}\n",
    "plt.figure(figsize=(10, 6))\n",
    "sns.countplot(data=product_clean, x='categ', hue=genre_deux, palette=custom_palette)\n",
    "plt.title('Nombre d\\'achats de livres par catégorie en fonction du genre')\n",
    "plt.xlabel('Catégorie')\n",
    "plt.ylabel('Nombre d\\'achats')\n",
    "plt.legend(title='Genre')\n",
    "plt.xticks(rotation=45)\n",
    "plt.tight_layout()"
   ]
  },
  {
   "cell_type": "markdown",
   "id": "72febe10",
   "metadata": {},
   "source": [
    "# Produits non vendus"
   ]
  },
  {
   "cell_type": "code",
   "execution_count": null,
   "id": "6e34484f",
   "metadata": {},
   "outputs": [],
   "source": [
    "jointure_outer = pd.merge(transactions, products, on='id_prod', how='outer')\n",
    "non_vendus = jointure_outer[jointure_outer['session_id'].isna()]\n",
    "non_vendus_final =non_vendus[\"id_prod\"].count()\n",
    "print(\"Nombre de produits non vendus :\", non_vendus_final)"
   ]
  },
  {
   "cell_type": "markdown",
   "id": "8ff72cc8",
   "metadata": {},
   "source": [
    "# Clients sans transactions"
   ]
  },
  {
   "cell_type": "code",
   "execution_count": null,
   "id": "24d01d96",
   "metadata": {},
   "outputs": [],
   "source": [
    "nombre_de_clients_sans_achat = 0\n",
    "clients_sans_achat = set(customers['client_id']) - set(transactions['client_id'])\n",
    "for client in clients_sans_achat:\n",
    "    nombre_de_clients_sans_achat += 1\n",
    "print(\"Nombre de clients n'ayant pas effectué d'achat :\", nombre_de_clients_sans_achat)"
   ]
  },
  {
   "cell_type": "markdown",
   "id": "610c3a46",
   "metadata": {},
   "source": [
    "# En prenant la variable nettoyée"
   ]
  },
  {
   "cell_type": "code",
   "execution_count": null,
   "id": "0e40ab0d",
   "metadata": {},
   "outputs": [],
   "source": [
    "nombre_de_clients_sans_test = 0\n",
    "clients_sans_test = set(transactions['date'].str.startswith('test'))\n",
    "for client in clients_sans_test:\n",
    "    nombre_de_clients_sans_test += 1\n",
    "print(\"Nombre de clients n'ayant pas effectué d'achat :\", nombre_de_clients_sans_test)"
   ]
  },
  {
   "cell_type": "code",
   "execution_count": null,
   "id": "1083d3a8",
   "metadata": {},
   "outputs": [],
   "source": [
    "nombre_de_clients_sans_achat_clean = 0\n",
    "clients_sans_achat_clean = set(customers['client_id']) - set(transactions_clean['client_id'])\n",
    "\n",
    "print(\"Noms des clients n'ayant pas effectué d'achat :\")\n",
    "for client_id in clients_sans_achat_clean:\n",
    "    nombre_de_clients_sans_achat_clean += 1\n",
    "    client_name = customers.loc[customers['client_id'] == client_id, 'client_id'].iloc[0]\n",
    "    print(f\"- {client_name}\")\n",
    "\n",
    "print(\"Nombre de clients n'ayant pas effectué d'achat :\", nombre_de_clients_sans_achat_clean)"
   ]
  },
  {
   "cell_type": "markdown",
   "id": "cbdcc7f3",
   "metadata": {},
   "source": [
    "# Médiane des livres de toutes les catégories"
   ]
  },
  {
   "cell_type": "code",
   "execution_count": null,
   "id": "47ece2cf",
   "metadata": {},
   "outputs": [],
   "source": [
    "median_prix_tous_livres = product_clean['price'].median()\n",
    "print(\"Médiane des prix de tous les livres:\", median_prix_tous_livres)"
   ]
  },
  {
   "cell_type": "markdown",
   "id": "c62ed2ea",
   "metadata": {},
   "source": [
    "# Changement du produit sans prix"
   ]
  },
  {
   "cell_type": "code",
   "execution_count": null,
   "id": "687c910a",
   "metadata": {},
   "outputs": [],
   "source": [
    "nouveau_produit = pd.DataFrame([{'id_prod': '0_2245', 'price': median_prix_tous_livres, 'categ': pd.NA}])\n",
    "products_df_modifie = pd.concat([products, nouveau_produit], ignore_index=True)\n",
    "produit_0_2245_ajoute = products_df_modifie[products_df_modifie['id_prod'] == '0_2245']\n",
    "produit_0_2245_ajoute\n",
    "products_df_modifie.loc[products_df_modifie['id_prod'] == '0_2245', 'categ'] = 0\n",
    "produit_0_2245_mis_a_jour = products_df_modifie[products_df_modifie['id_prod'] == '0_2245']\n",
    "produit_0_2245_mis_a_jour"
   ]
  },
  {
   "cell_type": "markdown",
   "id": "099141f5",
   "metadata": {},
   "source": [
    "# Corrélations"
   ]
  },
  {
   "cell_type": "code",
   "execution_count": null,
   "id": "34cf7b5f",
   "metadata": {},
   "outputs": [],
   "source": [
    "correlation_matrix = final_table[['age', 'frequency', 'total_revenue', 'average_basket', 0, 1, 2]].corr()\n",
    "correlation_matrix"
   ]
  }
 ],
 "metadata": {
  "kernelspec": {
   "display_name": "Python 3 (ipykernel)",
   "language": "python",
   "name": "python3"
  },
  "language_info": {
   "codemirror_mode": {
    "name": "ipython",
    "version": 3
   },
   "file_extension": ".py",
   "mimetype": "text/x-python",
   "name": "python",
   "nbconvert_exporter": "python",
   "pygments_lexer": "ipython3",
   "version": "3.10.6"
  }
 },
 "nbformat": 4,
 "nbformat_minor": 5
}
